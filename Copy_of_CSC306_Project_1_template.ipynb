{
  "cells": [
    {
      "cell_type": "markdown",
      "metadata": {
        "cell_id": "e39ed6b68f63454f883f80d4cffff500",
        "deepnote_cell_type": "markdown",
        "id": "AmbSIvdTE864"
      },
      "source": [
        "# Project 1, Gene Finding!\n",
        "\n",
        "### Make sure to carefully read the assignment in the word doc!"
      ]
    },
    {
      "cell_type": "code",
      "metadata": {
        "tags": [],
        "cell_id": "21e273428cc74ce195498213ce4b90e4",
        "deepnote_cell_type": "code",
        "id": "7_EzupHXE866"
      },
      "source": [
        "# Name:Emory Adelman\n",
        "# Partner's Name:Chelsea Johnson"
      ],
      "execution_count": null,
      "outputs": []
    },
    {
      "cell_type": "markdown",
      "metadata": {
        "cell_id": "04e45204d59d4fd98f76b0d08222e2ac",
        "deepnote_cell_type": "markdown",
        "id": "ZXbJpmxLE867"
      },
      "source": [
        "## Step one: duplicate this notebook and set the sharing settings to COMMENT!"
      ]
    },
    {
      "cell_type": "markdown",
      "metadata": {
        "tags": [],
        "cell_id": "afcc271b3d974d28919c206a3692ffbe",
        "deepnote_cell_type": "markdown",
        "id": "2TBf13U0E868"
      },
      "source": [
        "### 1. Reading the file\n",
        "Write a function that reads a fasta file that has one sequence in it. It should take as input a filename, and it should return a string of DNA. Call your function with the input `'X73525.fasta'` and store the output in a variable called `dna_string`. Test that it worked by printing the length of `dna_string` after you call the function. You should get `6387`.\n",
        "* Remember to use .strip() as you read through the lines of the file to remove newlines!"
      ]
    },
    {
      "cell_type": "code",
      "source": [
        "# you can run this cell to import the fasta file we are using:\n",
        "!wget https://raw.githubusercontent.com/Peziza/306/main/X73525.fasta"
      ],
      "metadata": {
        "id": "y6eFIpiXlo4o",
        "colab": {
          "base_uri": "https://localhost:8080/"
        },
        "outputId": "00d55ce4-2ec0-4514-d0ef-54c6f3701383"
      },
      "execution_count": null,
      "outputs": [
        {
          "output_type": "stream",
          "name": "stdout",
          "text": [
            "--2023-11-11 01:12:03--  https://raw.githubusercontent.com/Peziza/306/main/X73525.fasta\n",
            "Resolving raw.githubusercontent.com (raw.githubusercontent.com)... 185.199.111.133, 185.199.108.133, 185.199.109.133, ...\n",
            "Connecting to raw.githubusercontent.com (raw.githubusercontent.com)|185.199.111.133|:443... connected.\n",
            "HTTP request sent, awaiting response... 200 OK\n",
            "Length: 6547 (6.4K) [text/plain]\n",
            "Saving to: ‘X73525.fasta’\n",
            "\n",
            "X73525.fasta        100%[===================>]   6.39K  --.-KB/s    in 0s      \n",
            "\n",
            "2023-11-11 01:12:04 (82.6 MB/s) - ‘X73525.fasta’ saved [6547/6547]\n",
            "\n"
          ]
        }
      ]
    },
    {
      "cell_type": "code",
      "metadata": {
        "cell_id": "28c8e7f3541d48efbbfa98f56a5369c4",
        "source_hash": "2c73defc",
        "output_cleared": true,
        "execution_start": 1639980975312,
        "execution_millis": 8,
        "deepnote_to_be_reexecuted": false,
        "deepnote_cell_type": "code",
        "id": "Ugi6SQ-wE868"
      },
      "source": [
        "def get_dna(file):\n",
        "  dna_string =''\n",
        "  with open(file,'r')as file:\n",
        "    for line in file:\n",
        "      if \"S.typhimurium\"in line:\n",
        "       print(line)\n",
        "      if \"S.typhimurium\" not in line:\n",
        "        dna_string += line.strip()\n",
        "  return dna_string\n",
        "\n"
      ],
      "execution_count": null,
      "outputs": []
    },
    {
      "cell_type": "code",
      "source": [
        "DNA_string= get_dna(\"X73525.fasta\")\n",
        "print(len(DNA_string))"
      ],
      "metadata": {
        "colab": {
          "base_uri": "https://localhost:8080/"
        },
        "id": "cSciJtL1TLur",
        "outputId": "250736ba-db85-4d3f-c42a-45cb9ec9d826"
      },
      "execution_count": null,
      "outputs": [
        {
          "output_type": "stream",
          "name": "stdout",
          "text": [
            ">X73525.1 S.typhimurium genes for surface presentation of antigens\n",
            "\n",
            "6387\n"
          ]
        }
      ]
    },
    {
      "cell_type": "markdown",
      "metadata": {
        "tags": [],
        "cell_id": "a7466053a0e84086a9e158c835c20ecc",
        "deepnote_cell_type": "markdown",
        "id": "zXGo_NQwE868"
      },
      "source": [
        "### 2. Making the reverse complement\n",
        "Since genes can also occur on the other strand of DNA (also in the 5'->3' direction), we need to look for genes in the reverse complement too. In the block below, write a function (or you can copy-and-paste from your homework) that takes as input a string of DNA and returns a string that is the reverse complement. Call this function with `dna_string` as your input and store the output in a variable called `r_dna_string`. Again, check its length, which should also be `6387`."
      ]
    },
    {
      "cell_type": "code",
      "metadata": {
        "tags": [],
        "cell_id": "31694da8a3c44989865ef89e20145db2",
        "source_hash": "ebf2c85d",
        "output_cleared": true,
        "execution_start": 1639981216538,
        "execution_millis": 8,
        "deepnote_to_be_reexecuted": false,
        "deepnote_cell_type": "code",
        "id": "cPK4f1CFE868"
      },
      "source": [
        "def reverse_complement(dna_string):\n",
        "  dna = \"\"\n",
        "\n",
        "  for nuc in dna_string:\n",
        "    if nuc == \"A\":\n",
        "      dna +=\"T\"\n",
        "    elif nuc == \"T\":\n",
        "      dna += \"A\"\n",
        "    elif nuc == \"C\":\n",
        "      dna += \"G\"\n",
        "    elif nuc == \"G\":\n",
        "      dna += \"C\"\n",
        "\n",
        "  dna_rev = dna[::-1]\n",
        "\n",
        "  return dna_rev\n",
        "\n",
        "\n"
      ],
      "execution_count": null,
      "outputs": []
    },
    {
      "cell_type": "code",
      "source": [
        "r_dna_string=reverse_complement(DNA_string) #global variables are capitalized, besides reverse dna string"
      ],
      "metadata": {
        "id": "0kbDyAl9WOnK"
      },
      "execution_count": null,
      "outputs": []
    },
    {
      "cell_type": "code",
      "source": [
        "print(len(r_dna_string))"
      ],
      "metadata": {
        "colab": {
          "base_uri": "https://localhost:8080/"
        },
        "id": "-mAT1Zg1WqAd",
        "outputId": "d0e2cba6-7ca8-4208-9cad-b755e7023b1d"
      },
      "execution_count": null,
      "outputs": [
        {
          "output_type": "stream",
          "name": "stdout",
          "text": [
            "6387\n"
          ]
        }
      ]
    },
    {
      "cell_type": "markdown",
      "metadata": {
        "tags": [],
        "cell_id": "7708fdb9f1114336b154c3e29a11d146",
        "deepnote_cell_type": "markdown",
        "id": "lubQfQsnE868"
      },
      "source": [
        "### 3. Now it's time for the hard part: finding ORFs.\n",
        "If you want a challenge without spoilers, try to come up with your own method to find ORFs! Otherwise, **check out the instructions for this part in the Part3_instructions.ipynb file**! [here](https://colab.research.google.com/drive/1DuSsuM7pLJaPMVwVmMIsdc3rmtIc7CHb?usp=sharing)"
      ]
    },
    {
      "cell_type": "code",
      "source": [
        "def orf_finder(dna_string):\n",
        "  orf_list = []\n",
        "  current_orf = \"\" # keep track of orf sequences\n",
        "  in_orf = False #check if we're in an ORF\n",
        "\n",
        "  for x in range(0,len(dna_string),3):\n",
        "    codon = dna_string[x:x+3]\n",
        "\n",
        "    if codon == \"ATG\":\n",
        "      in_orf = True\n",
        "    if in_orf == True:\n",
        "      current_orf += codon\n",
        "    if (codon in (\"TAA\",\"TAG\",\"TGA\")) and in_orf == True:\n",
        "      orf_list.append(current_orf)\n",
        "      current_orf = ''\n",
        "      in_orf = False\n",
        "  return(orf_list)\n",
        "\n",
        "\n"
      ],
      "metadata": {
        "id": "gLREkVSAo-wl"
      },
      "execution_count": null,
      "outputs": []
    },
    {
      "cell_type": "code",
      "source": [
        "orf1 = orf_finder(DNA_string)\n",
        "counter = 0\n",
        "for x in orf1:\n",
        "  counter += 1\n",
        "\n",
        "print(counter)\n",
        "\n"
      ],
      "metadata": {
        "colab": {
          "base_uri": "https://localhost:8080/"
        },
        "id": "uGLtmbVzXLxH",
        "outputId": "56910e67-c9d6-4fe0-90ae-829fd92f3d84"
      },
      "execution_count": null,
      "outputs": [
        {
          "output_type": "stream",
          "name": "stdout",
          "text": [
            "15\n"
          ]
        }
      ]
    },
    {
      "cell_type": "markdown",
      "metadata": {
        "tags": [],
        "cell_id": "e8c399805c30416783a32302b817391b",
        "deepnote_cell_type": "markdown",
        "id": "cXJmVHjIE869"
      },
      "source": [
        "### 4. Remember: there are 6 reading frames\n",
        "Now you need to use your function (which you don't need to copy and paste below, it is already defined above!) to find the ORFs in the other 6 reading frames. You can store the output of each of these function calls in variables like `orfs2`, `orfs3`, `r_orfs1`, `r_orfs2`, and `r_orfs3`. You can add all these lists together to get one big list of ORFs! (You may have a different way to do this that doesn't use all these variables - that's ok too!). If you followed the algorithm above this list should have 115 entries.\n",
        "* (Note: if you used your own method for #3 you may have already though about reading frames - this assumes you made a function to find ORFs in one reading frame at a time)"
      ]
    },
    {
      "cell_type": "code",
      "metadata": {
        "tags": [],
        "cell_id": "ec667908a7e14d4b91c07dad4d4baa47",
        "source_hash": "cdc8dd2b",
        "output_cleared": true,
        "execution_start": 1639982946172,
        "execution_millis": 11,
        "deepnote_to_be_reexecuted": false,
        "deepnote_cell_type": "code",
        "id": "OBb8HGg8E869",
        "colab": {
          "base_uri": "https://localhost:8080/"
        },
        "outputId": "ff38d29f-37aa-4901-ef6d-6dd8a129c801"
      },
      "source": [
        "dna= 'GGATCCGACAGGGAAAAT'\n",
        "short_dna = dna[0:15]\n",
        "print(short_dna)"
      ],
      "execution_count": null,
      "outputs": [
        {
          "output_type": "stream",
          "name": "stdout",
          "text": [
            "GGATCCGACAGGGAA\n"
          ]
        }
      ]
    },
    {
      "cell_type": "code",
      "source": [
        "print(short_dna[0:3])"
      ],
      "metadata": {
        "colab": {
          "base_uri": "https://localhost:8080/"
        },
        "id": "sye4QNnjs2_A",
        "outputId": "e1ab063e-8432-4394-ca04-94e741de0bee"
      },
      "execution_count": null,
      "outputs": [
        {
          "output_type": "stream",
          "name": "stdout",
          "text": [
            "GGA\n"
          ]
        }
      ]
    },
    {
      "cell_type": "code",
      "source": [
        "print(short_dna[1:])\n",
        "#starting from second reading frame"
      ],
      "metadata": {
        "colab": {
          "base_uri": "https://localhost:8080/"
        },
        "id": "_h-s_KUutDKr",
        "outputId": "43233c83-c96d-4562-85f9-e395b5f14cf5"
      },
      "execution_count": null,
      "outputs": [
        {
          "output_type": "stream",
          "name": "stdout",
          "text": [
            "GATCCGACAGGGAA\n"
          ]
        }
      ]
    },
    {
      "cell_type": "code",
      "source": [
        "print(short_dna[2:])"
      ],
      "metadata": {
        "colab": {
          "base_uri": "https://localhost:8080/"
        },
        "id": "LBraj1FItaxX",
        "outputId": "606d22e3-6546-454e-cae7-09c85ebe18ab"
      },
      "execution_count": null,
      "outputs": [
        {
          "output_type": "stream",
          "name": "stdout",
          "text": [
            "ATCCGACAGGGAA\n"
          ]
        }
      ]
    },
    {
      "cell_type": "code",
      "source": [
        "print(short_dna[3:])"
      ],
      "metadata": {
        "colab": {
          "base_uri": "https://localhost:8080/"
        },
        "id": "1j0vPxLctooF",
        "outputId": "db0e0bcc-3d22-4c3d-ad03-8401dffeca51"
      },
      "execution_count": null,
      "outputs": [
        {
          "output_type": "stream",
          "name": "stdout",
          "text": [
            "TCCGACAGGGAA\n"
          ]
        }
      ]
    },
    {
      "cell_type": "code",
      "source": [
        "print(short_dna[4:])\n",
        "print(short_dna[5:])\n",
        "print(short_dna[6:])"
      ],
      "metadata": {
        "colab": {
          "base_uri": "https://localhost:8080/"
        },
        "id": "GsiIMbmnttB2",
        "outputId": "d97579ca-1844-4260-de3c-9e96e286a9d4"
      },
      "execution_count": null,
      "outputs": [
        {
          "output_type": "stream",
          "name": "stdout",
          "text": [
            "CCGACAGGGAA\n",
            "CGACAGGGAA\n",
            "GACAGGGAA\n"
          ]
        }
      ]
    },
    {
      "cell_type": "code",
      "source": [
        "def frame_finder(DNA_Str,REV_dna_Str):\n",
        "  orf1 = orf_finder(DNA_Str)\n",
        "  orf2= orf_finder(DNA_Str[1:])\n",
        "  orf3= orf_finder(DNA_Str[2:])\n",
        "  r_orf1 = orf_finder(REV_dna_Str)\n",
        "  r_orf2= orf_finder(REV_dna_Str[1:])\n",
        "  r_orf3= orf_finder(REV_dna_Str[2:])\n",
        "\n",
        "  return orf1 + orf2 + orf3+ r_orf1 + r_orf2 + r_orf3\n",
        "\n",
        "ult_frame_finder = frame_finder(DNA_string,r_dna_string)\n",
        "#call global variable\n",
        "#do this 3 times for the top string and 3 for the bottom, dna\n"
      ],
      "metadata": {
        "id": "ZGvMceS_t-1t"
      },
      "execution_count": null,
      "outputs": []
    },
    {
      "cell_type": "code",
      "source": [
        "print (ult_frame_finder[-1])\n",
        "print(len(ult_frame_finder[-1])% 3)"
      ],
      "metadata": {
        "colab": {
          "base_uri": "https://localhost:8080/"
        },
        "id": "CkwCsWs_lzMM",
        "outputId": "1332f153-3a2b-4f15-ad61-bb2f274f6346"
      },
      "execution_count": null,
      "outputs": [
        {
          "output_type": "stream",
          "name": "stdout",
          "text": [
            "ATGTGTCGGCGTCGTGACTTGTCCAAAAACGCGGCTTACGCTTTTCAGTACATCGATTGCCGGGTAATGTCCCTGCCCGGCCAGCTTTCTGCTCAGATACAGGTGACCGTCAAGGATAGAGCGAATTTCATCCGCCATCGGGTCCGCCTCTTCCTCGCTTTCCAGCAGTACCGTATAAAAGGCAGTAATGCTTCCCTCGCTGGTCGCCCCTGGGCGTTCCAGCAAGCGGGGCAAATTATCGAATACGGAGGCGGGATAACCTCGACGAGCCGGACGCTCTCCCGACGCCAGTGCCACGTCTCGCAAAGCACGCGCATAACGGGTCATGGAATCGATAAAAAGCACGACCCGTTTTCCCTGGTCGCGAAAATATTCCGCTACGGTTGTCGCCAGTTGCGCCGCATTGCAGCGATCGACCGAGGGGAAATCGGAAGTGGCAAAAACCAGCACGCATTTTTCTTTCTTATGCGAAGCGCGCAACATATCCACGAATTCAGTGACCTCACGGCCTCGTTCACCGATAAGACCGATAACAAAGACATCCGCCTCCGTTTGCTCGATCAGCATATGCATCAGCATGGTCTTACCGCATCCTGCGGAGGCAAAAATGCCCATTCGCTGGCCTACGCCACAGGTCAATAA\n",
            "0\n"
          ]
        }
      ]
    },
    {
      "cell_type": "code",
      "source": [
        "\n",
        "counter = 0\n",
        "for x in ult_frame_finder:\n",
        "  counter += 1\n",
        "\n",
        "print(counter)"
      ],
      "metadata": {
        "colab": {
          "base_uri": "https://localhost:8080/"
        },
        "id": "_i64z0UMdu8B",
        "outputId": "3e9139b8-e945-453a-c498-a84de9fa373d"
      },
      "execution_count": null,
      "outputs": [
        {
          "output_type": "stream",
          "name": "stdout",
          "text": [
            "115\n"
          ]
        }
      ]
    },
    {
      "cell_type": "markdown",
      "metadata": {
        "tags": [],
        "cell_id": "f0f98b8d732f4c5781de0364d9716f68",
        "deepnote_cell_type": "markdown",
        "id": "CTpJ6ckPE869"
      },
      "source": [
        "### 5. Filtering by length and translating\n",
        "Based on our discussions in class, there is reason to believe an ORF is more likely to be a gene if it is longer. Here, you should make a new list called `genes` that has translated versions of all the ORFs you think are long enough to be likely to be real genes (based on our discussion in class or your own simulations of ORF lengths in random DNA (doing these simulations is extra credit)). To do the filtering and translating, you will probably want to:\n",
        "* Use a for loop\n",
        "* Use an if statement\n",
        "* Write a function to translate from DNA sequences to amino acid sequences (which will use the dictionary provided below)"
      ]
    },
    {
      "cell_type": "code",
      "metadata": {
        "tags": [],
        "cell_id": "3170365782fa40639d4f88e8e371461d",
        "source_hash": "335397ca",
        "output_cleared": true,
        "execution_start": 1639983639541,
        "execution_millis": 5,
        "deepnote_to_be_reexecuted": false,
        "deepnote_cell_type": "code",
        "id": "_3IGx1HYE869"
      },
      "source": [
        "aa_dict = {\n",
        "    'AAA': 'K',  'AAC': 'N',  'AAG': 'K',  'AAT': 'N',  'ACA': 'T',  'ACC': 'T',\n",
        "    'ACG': 'T',  'ACT': 'T',  'AGA': 'R',  'AGC': 'S',  'AGG': 'R',  'AGT': 'S',\n",
        "    'ATA': 'I',  'ATC': 'I',  'ATG': 'M',  'ATT': 'I',  'CAA': 'Q',  'CAC': 'H',\n",
        "    'CAG': 'Q',  'CAT': 'H',  'CCA': 'P',  'CCC': 'P',  'CCG': 'P',  'CCT': 'P',\n",
        "    'CGA': 'R',  'CGC': 'R',  'CGG': 'R',  'CGT': 'R',  'CTA': 'L',  'CTC': 'L',\n",
        "    'CTG': 'L',  'CTT': 'L',  'GAA': 'E',  'GAC': 'D',  'GAG': 'E',  'GAT': 'D',\n",
        "    'GCA': 'A',  'GCC': 'A',  'GCG': 'A',  'GCT': 'A',  'GGA': 'G',  'GGC': 'G',\n",
        "    'GGG': 'G',  'GGT': 'G',  'GTA': 'V',  'GTC': 'V',  'GTG': 'V',  'GTT': 'V',\n",
        "    'TAA': '*',  'TAC': 'Y',  'TAG': '*',  'TAT': 'Y',  'TCA': 'S',  'TCC': 'S',\n",
        "    'TCG': 'S',  'TCT': 'S',  'TGA': '*',  'TGC': 'C',  'TGG': 'W',  'TGT': 'C',\n",
        "    'TTA': 'L',  'TTC': 'F',  'TTG': 'L',  'TTT': 'F'\n",
        "}\n"
      ],
      "execution_count": null,
      "outputs": []
    },
    {
      "cell_type": "code",
      "source": [
        "#first wirte the function\n",
        "#Use a for loop\n",
        "#call translate function"
      ],
      "metadata": {
        "id": "fX1KrXT2Uvpt"
      },
      "execution_count": null,
      "outputs": []
    },
    {
      "cell_type": "code",
      "source": [
        "def aa_translator(dna_string):\n",
        "  amino_acids = \"\"\n",
        "  for x in range(0,len(dna_string),3):\n",
        "    codon = dna_string[x:x+3]\n",
        "    amino_acids += aa_dict.get(codon)\n",
        "  return(amino_acids)\n"
      ],
      "metadata": {
        "id": "qBJQMN4TeO6y"
      },
      "execution_count": null,
      "outputs": []
    },
    {
      "cell_type": "code",
      "source": [
        "#def aa_translator(dna_string):\n",
        "  #amino_acids = ''\n",
        "  #i = 0\n",
        "  #while i * 3 < len(dna_string):\n",
        "    #codon = dna_string[i * 3 :( i + 1)* 3 ]\n",
        "    #amino_acids += aa_dict.get(codon)\n",
        "    #i += 1\n",
        "  #return amino_acids"
      ],
      "metadata": {
        "id": "thFnmN0-kuge"
      },
      "execution_count": null,
      "outputs": []
    },
    {
      "cell_type": "code",
      "source": [
        "print(orf1[0])"
      ],
      "metadata": {
        "colab": {
          "base_uri": "https://localhost:8080/"
        },
        "id": "wAdMfwVpkMO6",
        "outputId": "238594e2-c1fc-4499-8da7-d7ae7d6af156"
      },
      "execution_count": null,
      "outputs": [
        {
          "output_type": "stream",
          "name": "stdout",
          "text": [
            "ATGCGGTAA\n"
          ]
        }
      ]
    },
    {
      "cell_type": "code",
      "source": [
        "aa_translator('ATGCGGTAA')"
      ],
      "metadata": {
        "colab": {
          "base_uri": "https://localhost:8080/",
          "height": 35
        },
        "id": "LYrQeIbIkEfK",
        "outputId": "a1b28a29-e82c-4fcb-ffeb-d574193f4998"
      },
      "execution_count": null,
      "outputs": [
        {
          "output_type": "execute_result",
          "data": {
            "text/plain": [
              "'MR*'"
            ],
            "application/vnd.google.colaboratory.intrinsic+json": {
              "type": "string"
            }
          },
          "metadata": {},
          "execution_count": 27
        }
      ]
    },
    {
      "cell_type": "code",
      "source": [
        "aa_translator(orf1[0])"
      ],
      "metadata": {
        "colab": {
          "base_uri": "https://localhost:8080/",
          "height": 35
        },
        "id": "U_Du5dnCpS9E",
        "outputId": "df93e5a3-fed9-451c-9c19-4588a1ded384"
      },
      "execution_count": null,
      "outputs": [
        {
          "output_type": "execute_result",
          "data": {
            "text/plain": [
              "'MR*'"
            ],
            "application/vnd.google.colaboratory.intrinsic+json": {
              "type": "string"
            }
          },
          "metadata": {},
          "execution_count": 28
        }
      ]
    },
    {
      "cell_type": "code",
      "source": [
        "aa_translator('AATTGGCGATGCCAG')"
      ],
      "metadata": {
        "colab": {
          "base_uri": "https://localhost:8080/",
          "height": 35
        },
        "id": "6ljxhirNf8pH",
        "outputId": "b9a3e298-2771-430b-9104-c075dde5f2ad"
      },
      "execution_count": null,
      "outputs": [
        {
          "output_type": "execute_result",
          "data": {
            "text/plain": [
              "'NWRCQ'"
            ],
            "application/vnd.google.colaboratory.intrinsic+json": {
              "type": "string"
            }
          },
          "metadata": {},
          "execution_count": 29
        }
      ]
    },
    {
      "cell_type": "code",
      "source": [
        "def aa_filter(ULT_frame_finder):\n",
        "  aa_filter_list =[]\n",
        "  for x in ULT_frame_finder:\n",
        "    if len(x) > 400:\n",
        "      aa_filter_list.append(x)\n",
        "  gene_list=[]\n",
        "  for x in aa_filter_list :\n",
        "    gene_list.append(aa_translator(x))\n",
        "  return gene_list\n"
      ],
      "metadata": {
        "id": "rfTf6ETdgfcQ"
      },
      "execution_count": null,
      "outputs": []
    },
    {
      "cell_type": "code",
      "source": [
        "genes = aa_filter(ult_frame_finder)\n",
        "print(len(genes))"
      ],
      "metadata": {
        "colab": {
          "base_uri": "https://localhost:8080/"
        },
        "id": "WABa1c7ciRJe",
        "outputId": "0fb0fe42-697f-4bb6-9c7f-cba3702b8c3e"
      },
      "execution_count": null,
      "outputs": [
        {
          "output_type": "stream",
          "name": "stdout",
          "text": [
            "9\n"
          ]
        }
      ]
    },
    {
      "cell_type": "markdown",
      "metadata": {
        "tags": [],
        "cell_id": "206502ffc5614f30b37308e3617d17d6",
        "deepnote_cell_type": "markdown",
        "id": "xxV0g1gqE86-"
      },
      "source": [
        "### 6. Outputting your list of genes in a fasta file\n",
        "This one is easy - we've provided a function that takes as input a list of genes and an output filename (your output filename should be `X73525_genes.fasta`) and write the gene sequences to a fasta file you can use on the BLAST website."
      ]
    },
    {
      "cell_type": "code",
      "metadata": {
        "tags": [],
        "cell_id": "49ca0ba6c3114c94abe256389d76b06d",
        "source_hash": "c333be7e",
        "output_cleared": true,
        "execution_start": 1639983688559,
        "execution_millis": 3,
        "deepnote_to_be_reexecuted": false,
        "deepnote_cell_type": "code",
        "id": "jvjBiJDWE86-"
      },
      "source": [
        "def fasta_writer(gene_list, output_filename):\n",
        "    '''\n",
        "    given a list of genes and an output_filename, output those genes to a fasta file\n",
        "    '''\n",
        "    with open(output_filename, 'w') as f:\n",
        "        gene_counter = 1\n",
        "        for gene in gene_list:\n",
        "            f.write('>gene_'+str(gene_counter)+'\\n')\n",
        "            for i in range(len(gene)//80+1): # writes 80 characters per line\n",
        "                f.write(gene[i*80:i*80+80] + '\\n')\n",
        "            gene_counter += 1\n",
        "\n"
      ],
      "execution_count": null,
      "outputs": []
    },
    {
      "cell_type": "code",
      "source": [
        "fasta_writer(genes, 'X73525_genes.fasta')"
      ],
      "metadata": {
        "id": "xqxtFjnH6Ts6"
      },
      "execution_count": null,
      "outputs": []
    },
    {
      "cell_type": "code",
      "source": [
        "#this will runa fasta file for you\n",
        "#can download from the side panel\n",
        "#amoung of genes we end up with should be small"
      ],
      "metadata": {
        "id": "OeFJ4QymU4nB"
      },
      "execution_count": null,
      "outputs": []
    },
    {
      "cell_type": "code",
      "source": [
        "#cutoff for gene length is 400 basepairs\n",
        "#this number is to avoid calling strings genes when they aren't one actually\n",
        "#test stat could be orf length\n",
        "#Null hypothesis: Randomly shuffle DNA sequences, see what the largest ORF is that we find each time\n",
        "# p- values 0.05 or 0.25\n",
        "# click protein blast after pasting the string sequence\n",
        "# include the top hit in the report\n"
      ],
      "metadata": {
        "id": "TKbQdXZmNwFs"
      },
      "execution_count": null,
      "outputs": []
    },
    {
      "cell_type": "markdown",
      "metadata": {
        "tags": [],
        "cell_id": "a81eaa27fb2245288e100a9624cea685",
        "deepnote_cell_type": "markdown",
        "id": "rDFPxs7uE86-"
      },
      "source": [
        "### 7. One function to rule them all\n",
        "Look back at the code you've written. Your goal now is to make one function that takes as input an input fasta file name (`X73525.fasta`) and an output fasta file name (`X73525_genes.fasta`) and does all the steps at once. Hint: you will want to use all the code above that is **not** in another function. You do not need to copy-and-paste the functions down here, they are already defined above!\n",
        "\n",
        "#### Why????\n",
        "This may seem redundant, but it is actually useful. Now if we were to give you another file with a mystery DNA sequence, you could simply call this one function and quickly have an output file with all the genes your algorithm found in that file!"
      ]
    },
    {
      "cell_type": "code",
      "metadata": {
        "tags": [],
        "cell_id": "2150926972d643b59ff736e6a652bcf1",
        "source_hash": "9a5285b5",
        "output_cleared": true,
        "execution_start": 1639983876434,
        "execution_millis": 26,
        "deepnote_to_be_reexecuted": false,
        "deepnote_cell_type": "code",
        "id": "6QgFctZ9E86-",
        "colab": {
          "base_uri": "https://localhost:8080/"
        },
        "outputId": "f5f3ff11-8d56-4579-c73c-50e9e712fbbb"
      },
      "source": [
        "def DNAinvestigator(input_fastafilename,output_fastafilename): # input: input and output fasta file name\n",
        "  '''\n",
        "  takes a fasta file of DNA and makes a fasta file of genes\n",
        "  '''\n",
        "  DNA_string= get_dna(\"X73525.fasta\")\n",
        "  r_dna_string=reverse_complement(DNA_string)\n",
        "  orf1 = orf_finder(DNA_string)\n",
        "  ult_frame_finder = frame_finder(DNA_string,r_dna_string)\n",
        "  genes = aa_filter(ult_frame_finder)\n",
        "  fasta_writer(genes, 'X73525_genes.fasta')\n",
        "\n",
        "\n",
        "\n",
        "DNAinvestigator('X73525.fasta','X73525_genes.fasta') # run function for X73525#basically, write one function that calls all other functions, so all the other functions will be in the call line"
      ],
      "execution_count": null,
      "outputs": [
        {
          "output_type": "stream",
          "name": "stdout",
          "text": [
            ">X73525.1 S.typhimurium genes for surface presentation of antigens\n",
            "\n"
          ]
        }
      ]
    },
    {
      "cell_type": "markdown",
      "metadata": {
        "tags": [],
        "cell_id": "f75d72c131b2452abb03c94ba56579f3",
        "deepnote_cell_type": "markdown",
        "id": "1FFDU6pCE86-"
      },
      "source": [
        "### Remember:\n",
        "* Read the instructions!\n",
        "* Think through your plan and write it out before getting into the coding (we will work on this a bit together in class!)\n",
        "* Ask for help when you get stuck!"
      ]
    },
    {
      "cell_type": "code",
      "metadata": {
        "tags": [],
        "cell_id": "2e065652a73f4aa6ac1366fa5001393e",
        "output_cleared": true,
        "deepnote_cell_type": "code",
        "id": "tw8nWboIE86-"
      },
      "source": [],
      "execution_count": null,
      "outputs": []
    },
    {
      "cell_type": "code",
      "source": [
        "import matplotlib.pyplot as plt"
      ],
      "metadata": {
        "id": "Xg7EXFY5RHEz"
      },
      "execution_count": null,
      "outputs": []
    },
    {
      "cell_type": "code",
      "source": [
        "orf_lens =[100,145,180]\n",
        "plt.hist(orf_lens) # making a histogram of orf lengths\n",
        "plt.xlabel('Orf len')\n",
        "plt.ylabel('Count')"
      ],
      "metadata": {
        "id": "mnTIlhkRRPKP"
      },
      "execution_count": null,
      "outputs": []
    },
    {
      "cell_type": "code",
      "source": [
        "orf_lens =[100,100,145,180]\n",
        "plt.hist(orf_lens) # making a histogram of orf lengths\n",
        "plt.xlabel('Orf len')\n",
        "plt.ylabel('Count')"
      ],
      "metadata": {
        "id": "xpTsA8rmRPAl"
      },
      "execution_count": null,
      "outputs": []
    },
    {
      "cell_type": "code",
      "source": [
        "import random"
      ],
      "metadata": {
        "id": "J3E5Qf92RO1v"
      },
      "execution_count": null,
      "outputs": []
    },
    {
      "cell_type": "code",
      "source": [
        "def coin_flip(nflips):\n",
        "  '''flip nflips coins and return list of results'''\n",
        "  flip_results = []#empty list\n",
        "  for i in range(nflips):\n",
        "    flip_results.append(random.choice(['heads','tails']))\n",
        "  return flip_results"
      ],
      "metadata": {
        "id": "KyuEuieaR0MZ"
      },
      "execution_count": null,
      "outputs": []
    },
    {
      "cell_type": "code",
      "source": [
        "coin_flip(20)"
      ],
      "metadata": {
        "id": "I0D-utYjSv8I"
      },
      "execution_count": null,
      "outputs": []
    },
    {
      "cell_type": "code",
      "source": [
        "plt.hist(coin_flip(9))"
      ],
      "metadata": {
        "id": "3YJ13R9_TCG_"
      },
      "execution_count": null,
      "outputs": []
    },
    {
      "cell_type": "markdown",
      "metadata": {
        "tags": [],
        "cell_id": "01563a3d48af4aaf9f15dab62c227c5d",
        "deepnote_cell_type": "markdown",
        "id": "RW556rp3E86-"
      },
      "source": []
    },
    {
      "cell_type": "markdown",
      "source": [
        "<a style='text-decoration:none;line-height:16px;display:flex;color:#5B5B62;padding:10px;justify-content:end;' href='https://deepnote.com?utm_source=created-in-deepnote-cell&projectId=9f51c415-3606-41a2-94cb-a04bdc1ac789' target=\"_blank\">\n",
        "<img alt='Created in deepnote.com' style='display:inline;max-height:16px;margin:0px;margin-right:7.5px;' src='data:image/svg+xml;base64,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' > </img>\n",
        "Created in <span style='font-weight:600;margin-left:4px;'>Deepnote</span></a>"
      ],
      "metadata": {
        "created_in_deepnote_cell": true,
        "deepnote_cell_type": "markdown",
        "id": "MoLnV4MkE86_"
      }
    }
  ],
  "nbformat": 4,
  "nbformat_minor": 0,
  "metadata": {
    "deepnote": {},
    "kernelspec": {
      "name": "python3",
      "language": "python",
      "display_name": "Python 3"
    },
    "language_info": {
      "name": "python",
      "version": "3.7.1",
      "mimetype": "text/x-python",
      "file_extension": ".py",
      "pygments_lexer": "ipython3",
      "codemirror_mode": {
        "name": "ipython",
        "version": 3
      },
      "nbconvert_exporter": "python"
    },
    "deepnote_notebook_id": "58c19bf4e4bd4cd2b32d95377f34feb3",
    "deepnote_execution_queue": [],
    "colab": {
      "provenance": []
    }
  }
}